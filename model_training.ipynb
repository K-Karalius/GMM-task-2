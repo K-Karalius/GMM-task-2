{
  "cells": [
    {
      "cell_type": "code",
      "execution_count": 4,
      "metadata": {
        "id": "-w7OLZgztH2D"
      },
      "outputs": [],
      "source": [
        "import fiftyone as fo\n",
        "import fiftyone.zoo as foz\n",
        "import torch\n",
        "from torch.utils.data import DataLoader, Dataset\n",
        "from torchvision import transforms, models\n",
        "import torch.nn as nn\n",
        "import torch.optim as optim\n",
        "import numpy as np\n",
        "import matplotlib.pyplot as plt\n",
        "import seaborn as sns\n",
        "from PIL import Image\n",
        "import openimages.download as oi\n",
        "import os\n",
        "import shutil\n",
        "import random\n",
        "from torchmetrics.classification import ConfusionMatrix\n",
        "from torchmetrics import Accuracy, Precision, Recall, F1Score\n",
        "from sklearn.model_selection import train_test_split"
      ]
    },
    {
      "cell_type": "code",
      "execution_count": 6,
      "metadata": {
        "id": "LhfFqH1NEoDk"
      },
      "outputs": [],
      "source": [
        "def download_images(images_path, classes):\n",
        "    image_class_idx = []\n",
        "    image_paths = []\n",
        "    limit = 333\n",
        "\n",
        "    if os.path.exists(images_path):\n",
        "      shutil.rmtree(images_path)\n",
        "\n",
        "    os.makedirs(images_path, exist_ok=True)\n",
        "\n",
        "    for class_name in classes:\n",
        "        print(f\"Downloading images for class: {class_name}\")\n",
        "\n",
        "        images = oi.download_dataset(\n",
        "            dest_dir = images_path,\n",
        "            class_labels = [class_name],\n",
        "            limit=limit\n",
        "        )\n",
        "\n",
        "        image_class_idx.extend([classes.index(class_name)] * limit)\n",
        "\n",
        "        class_folder = os.path.join(images_path, class_name.lower(), 'images')\n",
        "\n",
        "        for image_filename in os.listdir(class_folder):\n",
        "          if image_filename.endswith('.jpg'):\n",
        "            image_paths.append(os.path.join(class_folder, image_filename))\n",
        "\n",
        "    return image_paths, image_class_idx"
      ]
    },
    {
      "cell_type": "code",
      "execution_count": 7,
      "metadata": {
        "id": "XzxfaB1V0IaL"
      },
      "outputs": [],
      "source": [
        "class OpenImagesDataset(Dataset):\n",
        "    def __init__(self, image_paths, label_indexes, transform):\n",
        "        self.image_paths = image_paths\n",
        "        self.label_indexes = label_indexes\n",
        "        self.num_of_classes = len(set(label_indexes))\n",
        "        self.transform = transform\n",
        "\n",
        "    def __len__(self):\n",
        "        return len(self.image_paths)\n",
        "\n",
        "    def __getitem__(self, idx):\n",
        "        img_path = self.image_paths[idx]\n",
        "        label_index = self.label_indexes[idx]\n",
        "\n",
        "        image = Image.open(img_path).convert('RGB')\n",
        "        transformed_image = self.transform(image)\n",
        "\n",
        "        class_one_hot = torch.zeros(self.num_of_classes)\n",
        "        class_one_hot[label_index] = 1\n",
        "\n",
        "        return transformed_image, class_one_hot"
      ]
    },
    {
      "cell_type": "code",
      "execution_count": 8,
      "metadata": {
        "id": "YEbhzA8-1fm2"
      },
      "outputs": [],
      "source": [
        "class NeuralNetwork(nn.Module):\n",
        "    def __init__(self):\n",
        "        super().__init__()\n",
        "        self.flatten = nn.Flatten()\n",
        "\n",
        "        self.conv_stack = nn.Sequential(\n",
        "            nn.Conv2d(3, 16, 3, padding=1),\n",
        "            nn.ReLU(),\n",
        "            nn.MaxPool2d(2),\n",
        "            nn.Conv2d(16, 32, 3, padding=1),\n",
        "            nn.ReLU(),\n",
        "            nn.MaxPool2d(2),\n",
        "            nn.Flatten(),\n",
        "            nn.Linear(32 * 56 * 56, 512),\n",
        "            nn.ReLU(),\n",
        "            nn.Linear(512, 3)\n",
        "        )\n",
        "\n",
        "    def forward(self, x):\n",
        "        return self.conv_stack(x)"
      ]
    },
    {
      "cell_type": "code",
      "execution_count": 9,
      "metadata": {
        "id": "c4VKTE632hKy"
      },
      "outputs": [],
      "source": [
        "def train_model(model, train_loader, device):\n",
        "    criterion = nn.CrossEntropyLoss()\n",
        "    optimizer = optim.SGD(model.parameters(), lr=0.001, momentum=0.9)\n",
        "    num_epochs = 10\n",
        "    for epoch in range(num_epochs):\n",
        "        model.train()\n",
        "        acc_loss = 0.0\n",
        "        for images, labels in train_loader:\n",
        "            images = images.to(device)\n",
        "            labels = labels.to(device)\n",
        "\n",
        "            optimizer.zero_grad()\n",
        "            outputs = model(images)\n",
        "            loss = criterion(outputs, labels)\n",
        "            loss.backward()\n",
        "            optimizer.step()\n",
        "\n",
        "            acc_loss += loss.item()\n",
        "        print(f'Epoch {epoch+1}/{num_epochs}, Loss: {acc_loss / len(train_loader)}')"
      ]
    },
    {
      "cell_type": "code",
      "execution_count": 10,
      "metadata": {
        "id": "sg3uR_Z5IjY5"
      },
      "outputs": [],
      "source": [
        "def calculate_metrics(all_preds, all_labels, classes):\n",
        "    num_of_labels = len(classes)\n",
        "    accuracy_metric = Accuracy(task=\"multiclass\", num_classes=num_of_labels, average='weighted')\n",
        "    precision_metric = Precision(task=\"multiclass\", num_classes=num_of_labels, average='weighted')\n",
        "    recall_metric = Recall(task=\"multiclass\", num_classes=num_of_labels, average='weighted')\n",
        "    f1_metric = F1Score(task=\"multiclass\", num_classes=num_of_labels, average='weighted')\n",
        "    conf_matrix_metric = ConfusionMatrix(task=\"multiclass\", num_classes=num_of_labels)\n",
        "\n",
        "    accuracy = accuracy_metric(all_preds, all_labels)\n",
        "    precision = precision_metric(all_preds, all_labels)\n",
        "    recall = recall_metric(all_preds, all_labels)\n",
        "    f1 = f1_metric(all_preds, all_labels)\n",
        "    conf_matrix = conf_matrix_metric(all_preds, all_labels)\n",
        "\n",
        "    print(f\"Accuracy: {accuracy:.4f}\")\n",
        "    print(f\"Precision: {precision:.4f}\")\n",
        "    print(f\"Recall: {recall:.4f}\")\n",
        "    print(f\"F1 Score: {f1:.4f}\")\n",
        "    print(f\"Confusion Matrix:\\n{conf_matrix}\")\n",
        "\n",
        "    conf_matrix = conf_matrix_metric(all_preds, all_labels).cpu().numpy()\n",
        "    plt.figure(figsize=(8, 6))\n",
        "    sns.heatmap(conf_matrix, annot=True, fmt=\"d\", cmap=\"Blues\", xticklabels=classes, yticklabels=classes)\n",
        "\n",
        "    plt.xlabel(\"Predicted Label\")\n",
        "    plt.ylabel(\"True Label\")\n",
        "    plt.title(\"Confusion Matrix\")\n",
        "    plt.show()\n"
      ]
    },
    {
      "cell_type": "code",
      "execution_count": 11,
      "metadata": {
        "id": "K5IH84dCoxVA"
      },
      "outputs": [],
      "source": [
        "def evaluate(model, data_loader, classes, device):\n",
        "    all_preds = []\n",
        "    all_labels = []\n",
        "    model.eval()\n",
        "\n",
        "    with torch.inference_mode():\n",
        "        for image_batch, img_labels in data_loader:\n",
        "            image_batch = image_batch.to(device)\n",
        "            img_labels = img_labels.to(device)\n",
        "\n",
        "            outputs = model(image_batch)\n",
        "\n",
        "            _, predicted_outputs = torch.max(outputs, 1)\n",
        "            _, true_labels = torch.max(img_labels, 1)\n",
        "\n",
        "            all_preds.append(predicted_outputs)\n",
        "            all_labels.append(true_labels)\n",
        "\n",
        "    all_preds = torch.cat(all_preds)\n",
        "    all_labels = torch.cat(all_labels)\n",
        "\n",
        "    calculate_metrics(all_preds, all_labels, classes)\n"
      ]
    },
    {
      "cell_type": "code",
      "execution_count": 12,
      "metadata": {
        "id": "dqeo_SRz0Bxr"
      },
      "outputs": [],
      "source": [
        "classes = [\"Car\",\n",
        "           \"Tree\",\n",
        "           \"Sink\"]\n",
        "images_path = \"open_images\"\n",
        "\n",
        "transformTrain = transforms.Compose([\n",
        "    transforms.RandomHorizontalFlip(),\n",
        "    transforms.RandomVerticalFlip(),\n",
        "    transforms.RandomRotation(10),\n",
        "    transforms.ColorJitter(brightness=0.2, contrast=0.2, saturation=0.2, hue=0.1),\n",
        "    transforms.Resize((224, 224)),\n",
        "    transforms.ToTensor()\n",
        "])\n",
        "\n",
        "transformTest = transforms.Compose([\n",
        "    transforms.Resize((224, 224)),\n",
        "    transforms.ToTensor()\n",
        "])"
      ]
    },
    {
      "cell_type": "code",
      "execution_count": 14,
      "metadata": {
        "colab": {
          "base_uri": "https://localhost:8080/"
        },
        "id": "s4hYt3wzHTRH",
        "outputId": "5fadbbb8-88ef-46a5-c5f8-7aa00a9c80ba"
      },
      "outputs": [
        {
          "name": "stdout",
          "output_type": "stream",
          "text": [
            "Downloading images for class: Car\n"
          ]
        },
        {
          "name": "stderr",
          "output_type": "stream",
          "text": [
            "2025-03-26  22:37:48 INFO Downloading 333 train images for class 'car'\n",
            "100%|██████████| 333/333 [00:16<00:00, 20.73it/s]\n"
          ]
        },
        {
          "name": "stdout",
          "output_type": "stream",
          "text": [
            "Downloading images for class: Tree\n"
          ]
        },
        {
          "name": "stderr",
          "output_type": "stream",
          "text": [
            "2025-03-26  22:39:24 INFO Downloading 333 train images for class 'tree'\n",
            "100%|██████████| 333/333 [00:18<00:00, 17.82it/s]\n"
          ]
        },
        {
          "name": "stdout",
          "output_type": "stream",
          "text": [
            "Downloading images for class: Sink\n"
          ]
        },
        {
          "name": "stderr",
          "output_type": "stream",
          "text": [
            "2025-03-26  22:40:53 INFO Downloading 333 train images for class 'sink'\n",
            "100%|██████████| 333/333 [00:15<00:00, 20.83it/s]\n"
          ]
        }
      ],
      "source": [
        "image_paths, image_labels = download_images(images_path, classes)"
      ]
    },
    {
      "cell_type": "code",
      "execution_count": 15,
      "metadata": {
        "id": "YAy0s4ez4XZW"
      },
      "outputs": [],
      "source": [
        "train_paths, test_paths, train_labels, test_labels = train_test_split(\n",
        "    image_paths, image_labels, test_size=0.2, shuffle=True, stratify=image_labels\n",
        ")\n",
        "\n",
        "train_dataset = OpenImagesDataset(train_paths, train_labels, transformTrain)\n",
        "test_dataset = OpenImagesDataset(test_paths, test_labels, transformTest)\n",
        "\n",
        "train_loader = DataLoader(train_dataset, batch_size=32, shuffle=True, num_workers=2)\n",
        "test_loader = DataLoader(test_dataset, batch_size=32, shuffle=False, num_workers=2)"
      ]
    },
    {
      "cell_type": "code",
      "execution_count": 28,
      "metadata": {
        "colab": {
          "base_uri": "https://localhost:8080/"
        },
        "id": "B0Lomufb3IcA",
        "outputId": "fdd1ef6c-86a5-43fb-931e-d4568f46df66"
      },
      "outputs": [
        {
          "name": "stdout",
          "output_type": "stream",
          "text": [
            "Epoch 1/10, Loss: 1.097667179107666\n",
            "Epoch 2/10, Loss: 1.0852877759933472\n",
            "Epoch 3/10, Loss: 1.0631787967681885\n",
            "Epoch 4/10, Loss: 1.0360298085212707\n",
            "Epoch 5/10, Loss: 1.011201069355011\n",
            "Epoch 6/10, Loss: 0.9836523532867432\n",
            "Epoch 7/10, Loss: 0.9867636322975158\n",
            "Epoch 8/10, Loss: 0.985729808807373\n",
            "Epoch 9/10, Loss: 0.9299723362922668\n",
            "Epoch 10/10, Loss: 0.8894350099563598\n"
          ]
        }
      ],
      "source": [
        "device = torch.device(\"cuda\" if torch.cuda.is_available() else \"cpu\")\n",
        "model = NeuralNetwork()\n",
        "model = model.to(device)\n",
        "\n",
        "train_model(model, train_loader, device)"
      ]
    },
    {
      "cell_type": "code",
      "execution_count": 29,
      "metadata": {
        "colab": {
          "base_uri": "https://localhost:8080/",
          "height": 707
        },
        "id": "SMOmcui3KRJR",
        "outputId": "bcbda2f8-a650-4870-fcc0-5029f3ce15a6"
      },
      "outputs": [
        {
          "name": "stdout",
          "output_type": "stream",
          "text": [
            "Accuracy: 0.5500\n",
            "Precision: 0.5291\n",
            "Recall: 0.5500\n",
            "F1 Score: 0.5110\n",
            "Confusion Matrix:\n",
            "tensor([[46,  8, 12],\n",
            "        [31, 12, 24],\n",
            "        [ 9,  6, 52]])\n"
          ]
        },
        {
          "data": {
            "image/png": "[encoded data removed]",
            "text/plain": [
              "<Figure size 800x600 with 2 Axes>"
            ]
          },
          "metadata": {},
          "output_type": "display_data"
        }
      ],
      "source": [
        "evaluate(model, test_loader, classes, device)"
      ]
    },
    {
      "cell_type": "code",
      "execution_count": 30,
      "metadata": {
        "id": "RTtNgTuFlMjk"
      },
      "outputs": [],
      "source": [
        "model_save_path = \"trained_model.pth\"\n",
        "torch.save(model.state_dict(), model_save_path)"
      ]
    }
  ],
  "metadata": {
    "colab": {
      "provenance": [],
      "toc_visible": true
    },
    "kernelspec": {
      "display_name": ".venv",
      "language": "python",
      "name": "python3"
    },
    "language_info": {
      "codemirror_mode": {
        "name": "ipython",
        "version": 3
      },
      "file_extension": ".py",
      "mimetype": "text/x-python",
      "name": "python",
      "nbconvert_exporter": "python",
      "pygments_lexer": "ipython3",
      "version": "3.12.3"
    }
  },
  "nbformat": 4,
  "nbformat_minor": 0
}
